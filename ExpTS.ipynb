{
 "cells": [
  {
   "cell_type": "markdown",
   "metadata": {},
   "source": [
    "# Multi-Armed Bandits\n",
    "\n",
    "## Exponential Thompson Sampling (ExpTS)\n",
    "\n",
    "Exponential Thompson Sampling (ExpTS) is a Bayesian algorithm for solving multi-armed bandit problems with exponential rewards. \"We present a general variant of Thompson sampling for exponential family rewards in Algorithm 1, which is termed ExpTS. At round t, ExpTS maintains an estimate of a sampling distribution for each arm, denoted as P. The algorithm generates a sample parameter $θ_i(t)$ for each arm $i$ independently from their sampling distribution and chooses the arm that attains the largest sample parameter. For each arm $i ∈ [K]$, the sampling distribution P is usually defined as a function of the total number of pulls $T_i(t)$ and the empirical average reward $\\hat{μ}_i(t)$. After pulling the chosen arm, the algorithm updates $T_i(t)$ and $\\hat{μ}_i(t)$ for each arm based on the reward rt it receives and proceeds to the next round."
   ]
  },
  {
   "cell_type": "code",
   "execution_count": 1,
   "metadata": {},
   "outputs": [
    {
     "name": "stderr",
     "output_type": "stream",
     "text": [
      "C:\\Users\\slm\\Anaconda3\\lib\\site-packages\\pandas\\compat\\_optional.py:138: UserWarning: Pandas requires version '2.7.0' or newer of 'numexpr' (version '2.6.9' currently installed).\n",
      "  warnings.warn(msg, UserWarning)\n"
     ]
    }
   ],
   "source": [
    "import numpy as np\n",
    "import pandas as pd\n",
    "import matplotlib.pyplot as plt\n",
    "from scipy.optimize import fsolve\n",
    "from scipy.integrate import quad\n",
    "from scipy.stats import expon"
   ]
  },
  {
   "cell_type": "code",
   "execution_count": 2,
   "metadata": {},
   "outputs": [],
   "source": [
    "class Bandit:\n",
    "    def __init__(self, num_arms, beta_vals=None):\n",
    "        # Set the random seed for reproducibility\n",
    "        np.random.seed(seed=7)\n",
    "        # Store the number of arms\n",
    "        self.num_arms = num_arms\n",
    "        # Define a small positive constant to avoid division by zero errors\n",
    "        epsilon = 1e-6\n",
    "        # Initialize the beta values for each arm\n",
    "        if beta_vals is None:\n",
    "            # If no beta values are provided, sample them randomly from a uniform distribution on [epsilon, 1]\n",
    "            self.beta_vals = np.random.uniform(epsilon, 1, num_arms)\n",
    "        else:\n",
    "            # If beta values are provided\n",
    "            self.beta_vals = beta_vals\n",
    "        # Initialize arrays to store the total reward and number of pulls for each arm\n",
    "        self.S = np.zeros(num_arms)\n",
    "        self.F = np.zeros(num_arms)\n",
    "    \n",
    "    def pull_arm(self, arm_index):\n",
    "        # Sample a reward from an exponential distribution with rate beta_vals[arm_index]\n",
    "        reward = np.random.exponential(self.beta_vals[arm_index])\n",
    "        # Return the sampled reward\n",
    "        return reward"
   ]
  },
  {
   "cell_type": "code",
   "execution_count": 39,
   "metadata": {},
   "outputs": [],
   "source": [
    "'''\n",
    "Old KL function, works %2.2 slower\n",
    "def KL(X, Y):\n",
    "    f = lambda x: X.pdf(x) * (np.log(X.pdf(x)/Y.pdf(x)))\n",
    "    return quad(f, -np.inf, np.inf)[0]\n",
    "'''\n",
    "def KL(X, Y):\n",
    "    # Define the integrand function for the KL divergence\n",
    "    f = lambda x: -X.pdf(x)*(Y.logpdf(x) - X.logpdf(x))\n",
    "    # Compute the definite integral of the integrand from -inf to inf\n",
    "    return quad(f, -np.inf, np.inf)[0]\n",
    "\n",
    "def solve_X(mu, result):\n",
    "    # Create an exponential distribution object with rate mu\n",
    "    X = expon(scale=1/mu)\n",
    "    # Define a function to find the root of\n",
    "    def f(x):\n",
    "        # Create an exponential distribution object with rate x\n",
    "        Y = expon(scale=1/x)\n",
    "        # Compute the difference between the KL divergence and the target result (result - kl = 0)\n",
    "        return KL(X, Y) - result\n",
    "    # Use fsolve to find the root of the function f\n",
    "    x = fsolve(f, mu)\n",
    "    return x[0]\n",
    "\n",
    "def sample_theta(mu, n):\n",
    "    # when n - 1 = 0, prevent divide by zero by setting result to 0 \n",
    "    if n == 1: result = 0\n",
    "    else:\n",
    "        # Sample a random value y from a uniform distribution on [0, 1]\n",
    "        y = np.random.uniform(0, 1)\n",
    "        if y >= 0.5:\n",
    "            # Compute the target result for KL(mu, x) using y (y>=1/2) and n\n",
    "            result = np.log(1 / (2 * (1 - y))) / (n - 1)\n",
    "        else:\n",
    "            # Compute the target result for KL(mu, x) using y (y<1/2) and n\n",
    "            result = np.log(1 / (2 * y)) / (n - 1)\n",
    "    # Solve for x using the solve_X function\n",
    "    x = solve_X(mu, result)\n",
    "    return x\n",
    "\n",
    "def exponential_thompson_sampling(num_arms, num_episodes, beta=None):\n",
    "    # Create a bandit object with the given number of arms and beta values\n",
    "    bandit = Bandit(num_arms, beta)\n",
    "    # Initialize an array to store the theta values for each arm with 0s\n",
    "    theta_values = [0.0] * num_arms\n",
    "    sequence_pulls = []\n",
    "    reward_round = []\n",
    "    \n",
    "    # Loop over the episodes\n",
    "    for t in range(1, num_episodes + 1):\n",
    "        # Exploration: Play each arm once\n",
    "        if t < num_arms + 1:\n",
    "            # Select the current arm as the action\n",
    "            action = t - 1\n",
    "            # Pull the selected arm and observe the reward\n",
    "            reward = bandit.pull_arm(action)\n",
    "            # Update the total reward and number of pulls for the selected arm\n",
    "            bandit.S[action] += reward\n",
    "            bandit.F[action] += 1\n",
    "        else:\n",
    "            # Exploitation: Select the arm with the highest sampled theta valu\n",
    "            for i in range(num_arms):\n",
    "                # Compute the mean reward (mu_i) and number of pulls (n_i) for arm i\n",
    "                mu_i = bandit.S[i] / bandit.F[i]\n",
    "                n_i = bandit.F[i]\n",
    "                # Sample θi(t) independently from P(̂μi(t), Ti(t))\n",
    "                theta_values[i] = sample_theta(mu_i, n_i)\n",
    "            print(theta_values)\n",
    "            # Select the arm with the highest sampled theta value as the action\n",
    "            action = np.argmax(theta_values)\n",
    "            # Pull the selected arm and observe the reward\n",
    "            reward = bandit.pull_arm(action)\n",
    "            # Update the total reward and the number of pulls\n",
    "            bandit.S[action] += reward\n",
    "            bandit.F[action] += 1\n",
    "        # Store the selected action and observed reward in the sequence arrays\n",
    "        sequence_pulls.append(action)\n",
    "        reward_round.append(reward)\n",
    "\n",
    "    # Return the sequence of arm pulls and average rewards per arm\n",
    "    return sequence_pulls, reward_round"
   ]
  },
  {
   "cell_type": "code",
   "execution_count": 9,
   "metadata": {},
   "outputs": [],
   "source": [
    "def singleGraph(num_arms, num_episodes, sequence_pulls, reward_round):\n",
    "    x = np.arange(1, num_episodes+1)\n",
    "    y = reward_round\n",
    "    z = sequence_pulls\n",
    "    df = pd.DataFrame({'x':x, 'y':y, 'z':z})\n",
    "    groups = df.groupby('z')\n",
    "    for name, group in groups:\n",
    "        plt.plot(group.x, group.y, marker='o', linestyle='', markersize=12, label=name)\n",
    "        \n",
    "    # Plotting the Round Number vs. Reward\n",
    "    plt.xlabel('Round Number')\n",
    "    plt.ylabel('Reward')\n",
    "    plt.title('Reward vs. Round Number')\n",
    "    plt.legend(bbox_to_anchor=(1.01, 1), loc=\"upper left\")\n",
    "    plt.show()\n",
    "    \n",
    "    cumulative_reward = np.cumsum(reward_round)\n",
    "    plt.xlabel('Round')\n",
    "    plt.ylabel('Cumulative Reward')\n",
    "    plt.plot(cumulative_reward)\n",
    "    plt.show()"
   ]
  },
  {
   "cell_type": "code",
   "execution_count": 40,
   "metadata": {},
   "outputs": [
    {
     "name": "stderr",
     "output_type": "stream",
     "text": [
      "C:\\Users\\slm\\Anaconda3\\lib\\site-packages\\ipykernel_launcher.py:9: RuntimeWarning: invalid value encountered in subtract\n",
      "  if __name__ == '__main__':\n",
      "C:\\Users\\slm\\Anaconda3\\lib\\site-packages\\ipykernel_launcher.py:11: IntegrationWarning: The occurrence of roundoff error is detected, which prevents \n",
      "  the requested tolerance from being achieved.  The error may be \n",
      "  underestimated.\n",
      "  # This is added back by InteractiveShellApp.init_path()\n"
     ]
    },
    {
     "name": "stdout",
     "output_type": "stream",
     "text": [
      "[0.0158753819042889, 0.454127602367636, 0.43273639811738684, 1.0283348214566486, 3.243800780025824, 0.69593784920057]\n",
      "[0.0158753819042889, 0.454127602367636, 0.43273639811738684, 1.0283348214566486, 1.9174414045817416, 0.69593784920057]\n",
      "[0.0158753819042889, 0.454127602367636, 0.43273639811738684, 1.0283348214566486, 1.3668570856643212, 0.69593784920057]\n",
      "[0.0158753819042889, 0.454127602367636, 0.43273639811738684, 1.0283348214566486, 1.266761882937572, 0.69593784920057]\n",
      "[0.0158753819042889, 0.454127602367636, 0.43273639811738684, 1.0283348214566486, 1.0949338412026608, 0.69593784920057]\n",
      "[0.0158753819042889, 0.454127602367636, 0.43273639811738684, 1.0283348214566486, 0.9605948009369021, 0.69593784920057]\n",
      "[0.0158753819042889, 0.454127602367636, 0.43273639811738684, 0.6101741304280051, 0.9605948009369021, 0.69593784920057]\n",
      "[0.0158753819042889, 0.454127602367636, 0.43273639811738684, 0.6101741304280051, 0.8264287277204285, 0.69593784920057]\n",
      "[0.0158753819042889, 0.454127602367636, 0.43273639811738684, 0.6101741304280051, 0.7509369445379095, 0.69593784920057]\n",
      "[0.0158753819042889, 0.454127602367636, 0.43273639811738684, 0.6101741304280051, 0.680996728078181, 0.69593784920057]\n",
      "[0.0158753819042889, 0.454127602367636, 0.43273639811738684, 0.6101741304280051, 0.680996728078181, 0.8455235327843216]\n",
      "[0.0158753819042889, 0.454127602367636, 0.43273639811738684, 0.6101741304280051, 0.680996728078181, 0.7034307140662057]\n",
      "[0.0158753819042889, 0.454127602367636, 0.43273639811738684, 0.6101741304280051, 0.680996728078181, 0.8569309123388167]\n",
      "[0.0158753819042889, 0.454127602367636, 0.43273639811738684, 0.6101741304280051, 0.680996728078181, 0.7940882172545414]\n",
      "[0.0158753819042889, 0.454127602367636, 0.43273639811738684, 0.6101741304280051, 0.680996728078181, 0.7539163627336584]\n",
      "[0.0158753819042889, 0.454127602367636, 0.43273639811738684, 0.6101741304280051, 0.680996728078181, 0.6717999767736124]\n",
      "[0.0158753819042889, 0.454127602367636, 0.43273639811738684, 0.6101741304280051, 0.6984206873158971, 0.6717999767736124]\n",
      "[0.0158753819042889, 0.454127602367636, 0.43273639811738684, 0.6101741304280051, 0.6424078874582231, 0.6717999767736124]\n",
      "[0.0158753819042889, 0.454127602367636, 0.43273639811738684, 0.6101741304280051, 0.6424078874582231, 0.9378748609740326]\n",
      "[0.0158753819042889, 0.454127602367636, 0.43273639811738684, 0.6101741304280051, 0.6424078874582231, 0.9234612165711381]\n",
      "[0.0158753819042889, 0.454127602367636, 0.43273639811738684, 0.6101741304280051, 0.6424078874582231, 1.0009015003599406]\n",
      "[0.0158753819042889, 0.454127602367636, 0.43273639811738684, 0.6101741304280051, 0.6424078874582231, 0.9401201890328241]\n",
      "[0.0158753819042889, 0.454127602367636, 0.43273639811738684, 0.6101741304280051, 0.6424078874582231, 0.8728166187745002]\n",
      "[0.0158753819042889, 0.454127602367636, 0.43273639811738684, 0.6101741304280051, 0.6424078874582231, 0.8182024013827692]\n",
      "223.52828168869019\n"
     ]
    },
    {
     "data": {
      "image/png": "[encoded data removed]",
      "text/plain": [
       "<Figure size 432x288 with 1 Axes>"
      ]
     },
     "metadata": {
      "needs_background": "light"
     },
     "output_type": "display_data"
    },
    {
     "data": {
      "image/png": "[encoded data removed]",
      "text/plain": [
       "<Figure size 432x288 with 1 Axes>"
      ]
     },
     "metadata": {
      "needs_background": "light"
     },
     "output_type": "display_data"
    }
   ],
   "source": [
    "_beta = [0.2, 0.3, 0.75, 0.8, 0.85, 0.9]\n",
    "num_arms = 6\n",
    "num_episodes = 30\n",
    "import time\n",
    "start = time.time()\n",
    "s6, r6 = exponential_thompson_sampling(num_arms, num_episodes, _beta)\n",
    "end = time.time()\n",
    "print(end - start)\n",
    "singleGraph(num_arms, num_episodes, s6, r6)"
   ]
  },
  {
   "cell_type": "code",
   "execution_count": null,
   "metadata": {},
   "outputs": [],
   "source": []
  }
 ],
 "metadata": {
  "kernelspec": {
   "display_name": "Python 3",
   "language": "python",
   "name": "python3"
  },
  "language_info": {
   "codemirror_mode": {
    "name": "ipython",
    "version": 3
   },
   "file_extension": ".py",
   "mimetype": "text/x-python",
   "name": "python",
   "nbconvert_exporter": "python",
   "pygments_lexer": "ipython3",
   "version": "3.7.3"
  }
 },
 "nbformat": 4,
 "nbformat_minor": 2
}
